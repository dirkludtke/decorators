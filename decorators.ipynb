{
  "cells": [
    {
      "cell_type": "markdown",
      "id": "3986c0c4",
      "metadata": {},
      "source": [
        "# Decorators\n",
        "\n",
        "Dirk Lüdtke (bizzarq software)  \n",
        "2025-04-30 Python Barcelona Meetup\n",
        "\n",
        "<img alt=\"Christmas decoration inside a data center\" src=\"img/1_decoration.png\" width=\"75%\">\n",
        "\n",
        "## Introduction\n",
        "\n",
        "### Examples\n",
        "\n",
        "- @classmethod\n",
        "- @app.route (Flask)\n",
        "- @validator (Pydantic)\n",
        "- @tf.function (TensorFlow)\n",
        "\n",
        "### Origin\n",
        "\n",
        "- available since Nov. 2004 (Python 2.4)\n",
        "- Java compiler annotation @Deprecated released Sep. 2004 (Java 1.5)\n",
        "  - Java docstring @deprecated since 1996? (Java 1.0?)\n",
        "- Objective-C \\[Attribute\\] before 2000\n",
        "\n",
        "### Others\n",
        "- @syntax: Grovy, Scala, Kotlin, Swift, Dart, TypeScript, Javascript (experimental)\n",
        "- \\#\\[syntax\\]: Rust, PHP"
      ]
    },
    {
      "cell_type": "markdown",
      "id": "6f160bac-59a5-4d2e-8efb-9558b632ed45",
      "metadata": {},
      "source": [
        "---\n",
        "## Functional Programming\n",
        "\n",
        "<img alt=\"Python looking at a blackboard with formulas\" src=\"img/2_functions.png\" width=\"75%\">\n",
        "\n",
        "### Functions as Function Arguments"
      ]
    },
    {
      "cell_type": "code",
      "execution_count": null,
      "id": "151c2569-eea9-4730-aac1-293fbbd0cc04",
      "metadata": {
        "trusted": true
      },
      "outputs": [],
      "source": [
        "def function1a():\n",
        "    print('function1a started and finished')\n",
        "\n",
        "def function1b():\n",
        "    print('function1b started and finished')\n",
        "\n",
        "def function2(fun):\n",
        "    print('function2 started')\n",
        "    fun()\n",
        "    print('function2 finished')\n",
        "\n",
        "function2(function1a)\n",
        "function2(function1b)"
      ]
    },
    {
      "cell_type": "markdown",
      "id": "8d6cf393-ea87-4e69-bca2-6474b07f76a9",
      "metadata": {},
      "source": [
        "### Functions as Return Values"
      ]
    },
    {
      "cell_type": "code",
      "execution_count": null,
      "id": "ab2380e1-b610-4797-82f3-bb8fef4e701a",
      "metadata": {
        "trusted": true
      },
      "outputs": [],
      "source": [
        "def function1(opp):\n",
        "    def function2(a, b):\n",
        "        if opp == \"*\":\n",
        "            return a * b\n",
        "        return a + b\n",
        "    return function2\n",
        "\n",
        "mul = function1('*')\n",
        "add = function1('+')\n",
        "\n",
        "print('mul(3, 4) =', mul(3, 4))\n",
        "print('add(3, 4) =', add(3, 4))"
      ]
    },
    {
      "cell_type": "markdown",
      "id": "84143460-4bfb-48c0-b2d9-5aad4be4a188",
      "metadata": {},
      "source": [
        "---\n",
        "## Howto Decorators\n",
        "\n",
        "### @simple_decorator\n",
        "\n",
        "- function X\n",
        "- which receives function Y and\n",
        "- returns function Z which is called instead of function Y\n",
        "\n",
        "**Example: Logging**"
      ]
    },
    {
      "cell_type": "code",
      "execution_count": null,
      "id": "7f56dc21-7ea1-42aa-9eb1-efb6e270dc54",
      "metadata": {
        "trusted": true
      },
      "outputs": [],
      "source": [
        "def log_function(fun):\n",
        "\n",
        "    def decorate(*args, **kwargs):\n",
        "        print(f'calling \"{fun.__name__}\" with {args} and {kwargs}')\n",
        "        result = fun(*args, **kwargs)\n",
        "        print(f'\"{fun.__name__}\" returned {result}')\n",
        "        return result\n",
        "\n",
        "    return decorate\n",
        "\n",
        "@log_function\n",
        "def add(x, y):\n",
        "    return x + y\n",
        "\n",
        "print(add(1, 1))\n",
        "print(add(y=3, x=2))"
      ]
    },
    {
      "cell_type": "markdown",
      "id": "48b1681a-f2be-49d6-99a1-1267e7a50fc5",
      "metadata": {
        "trusted": true
      },
      "source": [
        "### @decorator_with_args(*args, **kwargs)\n",
        "\n",
        "- function W\n",
        "- which receives the desired arguments and\n",
        "- returns a simple decorator\n",
        "  - function X\n",
        "  - which receives function Y and\n",
        "  - returns function Z which is called instead of function Y\n",
        "\n",
        "**Example: Repeat**"
      ]
    },
    {
      "cell_type": "code",
      "execution_count": null,
      "id": "bf022208",
      "metadata": {},
      "outputs": [],
      "source": [
        "def repeat(n: int):\n",
        "    def create_decorator(fun):\n",
        "        def decorate(value):\n",
        "            for _ in range(n):\n",
        "                value = fun(value)\n",
        "            return value\n",
        "        return decorate\n",
        "    return create_decorator\n",
        "\n",
        "@repeat(5)\n",
        "def plus_one(n):\n",
        "    return n + 1\n",
        "print('plus one repeated 5 times:', plus_one(0))"
      ]
    },
    {
      "cell_type": "markdown",
      "id": "7cbb43b3",
      "metadata": {},
      "source": [
        "### Combined Decorators\n",
        "\n",
        "**Example: Nested Repeat**"
      ]
    },
    {
      "cell_type": "code",
      "execution_count": null,
      "id": "31d6f02c",
      "metadata": {},
      "outputs": [],
      "source": [
        "@repeat(5)\n",
        "@repeat(5)\n",
        "@repeat(5)\n",
        "def plus_one_b(n):\n",
        "    return n + 1\n",
        "\n",
        "print('plus one repeated 5 * 5 * 5 times:', plus_one_b(0))"
      ]
    },
    {
      "cell_type": "markdown",
      "id": "81487fd3",
      "metadata": {},
      "source": [
        "**Example: Nested Decoration**"
      ]
    },
    {
      "cell_type": "code",
      "execution_count": null,
      "id": "176711a7",
      "metadata": {},
      "outputs": [],
      "source": [
        "def repeat2(n: int, m: int):\n",
        "    @repeat(m)\n",
        "    def create_decorator(fun):\n",
        "        @repeat(n)\n",
        "        def decorate(value):\n",
        "            return fun(value)\n",
        "        return decorate\n",
        "    return create_decorator\n",
        "\n",
        "@repeat2(5, 4)\n",
        "def plus_one_c(n):\n",
        "    return n + 1\n",
        "\n",
        "print('plus one repeated 5 ** 4 times:', plus_one_c(0))"
      ]
    },
    {
      "cell_type": "markdown",
      "id": "d488ae97",
      "metadata": {},
      "source": [
        "<img alt=\"Christmas tree balls in infinite grid\" src=\"img/3_repeat.png\" width=\"75%\">\n",
        "\n",
        "---\n",
        "## Algorithms\n",
        "\n",
        "### Divide and Conquer"
      ]
    },
    {
      "cell_type": "code",
      "execution_count": null,
      "id": "94e44b20",
      "metadata": {},
      "outputs": [],
      "source": [
        "def divide_and_conquer(fun):\n",
        "    def decorate(elements):\n",
        "        if (len(elements) < 2):\n",
        "            return elements\n",
        "        mid = len(elements) // 2\n",
        "        return fun(decorate(elements[:mid]), decorate(elements[mid:]))\n",
        "    return decorate\n"
      ]
    },
    {
      "cell_type": "markdown",
      "id": "cbdc2639",
      "metadata": {},
      "source": [
        "<img alt=\"Santa as a conqueror\" src=\"img/4_conquer.png\" width=\"75%\">\n",
        "\n",
        "**Example: Mergesort**"
      ]
    },
    {
      "cell_type": "code",
      "execution_count": null,
      "id": "9a342106",
      "metadata": {},
      "outputs": [],
      "source": [
        "@divide_and_conquer\n",
        "def merge_lists(list1, list2):\n",
        "    result = []\n",
        "    pos1, pos2 = 0, 0\n",
        "    while pos1 < len(list1) or pos2 < len(list2):\n",
        "        if pos2 >= len(list2) or (pos1 < len(list1) and list1[pos1] < list2[pos2]):\n",
        "            result.append(list1[pos1])\n",
        "            pos1 += 1\n",
        "        else:\n",
        "            result.append(list2[pos2])\n",
        "            pos2 += 1\n",
        "    return result\n",
        "\n",
        "print(merge_lists([9, 4, 3, 8, 6, 5, 2, 7, 1]))"
      ]
    },
    {
      "cell_type": "markdown",
      "id": "041dcd3f",
      "metadata": {},
      "source": [
        "**Example: Revert**"
      ]
    },
    {
      "cell_type": "code",
      "execution_count": null,
      "id": "147bcd7d",
      "metadata": {},
      "outputs": [],
      "source": [
        "\n",
        "@divide_and_conquer\n",
        "def reorder_lists(list1, list2):\n",
        "    return list2 + list1\n",
        "\n",
        "print(reorder_lists([9, 4, 3, 8, 6, 5, 2, 7, 1]))\n"
      ]
    },
    {
      "cell_type": "markdown",
      "id": "18e3753f",
      "metadata": {},
      "source": [
        "### Bounded Series of Numbers"
      ]
    },
    {
      "cell_type": "code",
      "execution_count": null,
      "id": "ac765f4c",
      "metadata": {},
      "outputs": [],
      "source": [
        "def is_bounded(start, bound_function, max_steps):\n",
        "    def create_decorator(fun):\n",
        "        def decorate(c):\n",
        "            value = start\n",
        "            for _ in range(max_steps):\n",
        "                value = fun(value, c)\n",
        "                if not bound_function(value):\n",
        "                    return False\n",
        "            return True\n",
        "        return decorate\n",
        "    return create_decorator"
      ]
    },
    {
      "cell_type": "markdown",
      "id": "0d133d93",
      "metadata": {},
      "source": [
        "**Example: Mandelbrot Set**\n",
        "\n",
        "<img alt=\"Mandelbrot set in color\" src=\"img/5_mandelbrot.png\" width=\"75%\"/>"
      ]
    },
    {
      "cell_type": "code",
      "execution_count": null,
      "id": "9ed2dca5",
      "metadata": {},
      "outputs": [],
      "source": [
        "\n",
        "@is_bounded(0, lambda z: abs(z) < 2, 1000)\n",
        "def mandelbrot_step(z, c):\n",
        "    return z ** 2 + c\n",
        "\n",
        "symbols = {True: '*', False: ' '}\n",
        "for row in range(21):\n",
        "    i = (row - 10) / 10\n",
        "    for col in range(61):\n",
        "        r = (col - 40) / 20\n",
        "        symbol = symbols[mandelbrot_step(complex(r, i))]\n",
        "        print(symbol, end='')\n",
        "    print()"
      ]
    },
    {
      "cell_type": "markdown",
      "id": "3721b918",
      "metadata": {},
      "source": [
        "---\n",
        "## Evaluation\n",
        "\n",
        "### Wrapping Functions\n",
        "\n",
        "**with decorator**"
      ]
    },
    {
      "cell_type": "code",
      "execution_count": null,
      "id": "3b0e0153",
      "metadata": {},
      "outputs": [],
      "source": [
        "def wrap_decorator(function):\n",
        "    def wrap_decorate(*args, **kwargs):\n",
        "        print(f'wrap_decorate {function.__name__} {args} {kwargs}')\n",
        "        return function(*args, **kwargs)\n",
        "    return wrap_decorate\n",
        "\n",
        "@wrap_decorator\n",
        "def wrap_decorated(greeting):\n",
        "    print(f'{greeting} wrap_decorated')\n",
        "\n",
        "wrap_decorated('Hello')"
      ]
    },
    {
      "cell_type": "markdown",
      "id": "995a388f",
      "metadata": {},
      "source": [
        "**old school**"
      ]
    },
    {
      "cell_type": "code",
      "execution_count": null,
      "id": "a19df7ac",
      "metadata": {},
      "outputs": [],
      "source": [
        "def wrap_old_school(function, *args, **kwargs):\n",
        "    print(f'wrap_old_school {function.__name__} {args} {kwargs}')\n",
        "    return function(*args, **kwargs)\n",
        "\n",
        "def old_school(greeting):\n",
        "    print(f'{greeting} old_school')\n",
        "\n",
        "wrap_old_school(old_school, 'Hello')"
      ]
    },
    {
      "cell_type": "markdown",
      "id": "a6097b1a",
      "metadata": {},
      "source": [
        "### Storing Functions\n",
        "\n",
        "**with decorator**"
      ]
    },
    {
      "cell_type": "code",
      "execution_count": null,
      "id": "64b22d1a",
      "metadata": {},
      "outputs": [],
      "source": [
        "decorator_store = {}\n",
        "def store_decorator(key):\n",
        "    def create_decorator(function):\n",
        "        decorator_store[key] = function\n",
        "        return function\n",
        "    return create_decorator\n",
        "\n",
        "@store_decorator('my_function')\n",
        "def store_decorated(greeting):\n",
        "    print(f'{greeting} decorator_registered')\n",
        "\n",
        "print(decorator_store)"
      ]
    },
    {
      "cell_type": "markdown",
      "id": "57692a19",
      "metadata": {},
      "source": [
        "**old school**"
      ]
    },
    {
      "cell_type": "code",
      "execution_count": null,
      "id": "238ad7dd",
      "metadata": {},
      "outputs": [],
      "source": [
        "old_school_store = {}\n",
        "def store_old_school(key, function):\n",
        "    old_school_store[key] = function\n",
        "\n",
        "store_old_school('my_function', old_school)\n",
        "print(old_school_store)"
      ]
    },
    {
      "cell_type": "markdown",
      "id": "4e861034",
      "metadata": {},
      "source": [
        "### Wrapping and Storing\n",
        "\n",
        "**with decorator**"
      ]
    },
    {
      "cell_type": "code",
      "execution_count": null,
      "id": "004bf176",
      "metadata": {},
      "outputs": [],
      "source": [
        "@wrap_decorator\n",
        "@store_decorator('my_function')\n",
        "def wrap_and_store_decorated(greeting):\n",
        "    print(f'{greeting} wrap_and_store_decorated')\n",
        "\n",
        "wrap_and_store_decorated('Good bye')\n",
        "print(decorator_store)"
      ]
    },
    {
      "cell_type": "code",
      "execution_count": null,
      "id": "83194807",
      "metadata": {},
      "outputs": [],
      "source": [
        "wrap_old_school(old_school, 'Good bye')\n",
        "store_old_school('my_function', old_school)\n",
        "print(old_school_store)"
      ]
    },
    {
      "cell_type": "markdown",
      "id": "1d2b9f06",
      "metadata": {},
      "source": [
        "### Function Name Changes"
      ]
    },
    {
      "cell_type": "code",
      "execution_count": null,
      "id": "9e293400",
      "metadata": {},
      "outputs": [],
      "source": [
        "def change_name(function):\n",
        "    def internal_name(*args, **kwargs):\n",
        "        return function(*args, **kwargs)\n",
        "    return internal_name\n",
        "\n",
        "@change_name\n",
        "def external_name():\n",
        "    pass\n",
        "\n",
        "print(external_name.__name__)"
      ]
    },
    {
      "cell_type": "code",
      "execution_count": null,
      "id": "c87fa32d",
      "metadata": {},
      "outputs": [],
      "source": [
        "import functools\n",
        "\n",
        "def dont_change_name(function):\n",
        "    @functools.wraps(function)\n",
        "    def internal_name(*args, **kwargs):\n",
        "        return function(*args, **kwargs)\n",
        "    return internal_name\n",
        "\n",
        "@dont_change_name\n",
        "def external_name():\n",
        "    pass\n",
        "\n",
        "print(external_name.__name__)"
      ]
    },
    {
      "cell_type": "markdown",
      "id": "d76189be",
      "metadata": {},
      "source": [
        "### Misuse\n",
        "\n",
        "1. Evil library"
      ]
    },
    {
      "cell_type": "code",
      "execution_count": null,
      "id": "81a1026e",
      "metadata": {},
      "outputs": [],
      "source": [
        "def evil_decorator(function):\n",
        "    def internal_name(*args, **kwargs):\n",
        "        print('I am extremely evil')\n",
        "    return internal_name"
      ]
    },
    {
      "cell_type": "markdown",
      "id": "40c7d6a3",
      "metadata": {},
      "source": [
        "2. Trusted function"
      ]
    },
    {
      "cell_type": "code",
      "execution_count": null,
      "id": "187a4714",
      "metadata": {},
      "outputs": [],
      "source": [
        "@evil_decorator\n",
        "def trusted_function():\n",
        "    print('I am harmless')"
      ]
    },
    {
      "cell_type": "markdown",
      "id": "16e7999a",
      "metadata": {},
      "source": [
        "3. Unsuspicious use"
      ]
    },
    {
      "cell_type": "code",
      "execution_count": null,
      "id": "db735b9f",
      "metadata": {},
      "outputs": [],
      "source": [
        "trusted_function()"
      ]
    },
    {
      "cell_type": "markdown",
      "id": "4450e376",
      "metadata": {},
      "source": [
        "---\n",
        "## Material\n",
        "\n",
        "Python PEP\n",
        ": https://peps.python.org/pep-0318/\n",
        "\n",
        "Tutorial\n",
        ": https://realpython.com/primer-on-python-decorators/\n",
        "\n",
        "Functools\n",
        ": https://docs.python.org/3/library/functools.html\n",
        "  - @functools.cache (cache results of previous calls)\n",
        "  - @functools.wraps (decorates a decorator function for looking like the decorated function)\n",
        "\n",
        "Google style guide\n",
        ": https://google.github.io/styleguide/pyguide.html\n",
        "  - 2.17.2 Pros\n",
        "  : Elegantly specifies some transformation on a method; the transformation might eliminate some repetitive code, enforce invariants, etc.\n",
        "  - 2.17.3 Cons\n",
        "  : Decorators can perform arbitrary operations on a function’s arguments or return values, resulting in surprising implicit behavior. Additionally, decorators execute at object definition time. For module-level objects (classes, module functions, …) this happens at import time. Failures in decorator code are pretty much impossible to recover from.\n",
        "\n",
        "---\n",
        "## Conclusion\n",
        "\n",
        "<img alt=\"desk after Christmas party\" src=\"img/6_conclusion.png\" width=\"75%\">\n",
        "\n",
        "bird-view\n",
        "- more boilerplate code\n",
        "- functions cannot be re-used in different contexts\n",
        "- implicit behavior\n",
        "- debugging a bit tedious\n",
        "\n",
        "creator of decorator\n",
        "- more control\n",
        "- good extensibility\n",
        "\n",
        "user of decorator\n",
        "- more convenience\n",
        "- hidden complexity\n",
        "\n",
        "--> good for libraries / frameworks  \n",
        "--> no use case for own projects\n",
        "\n",
        "---\n",
        "## Thank You!"
      ]
    }
  ],
  "metadata": {
    "kernelspec": {
      "display_name": ".venv",
      "language": "python",
      "name": "python3"
    },
    "language_info": {
      "codemirror_mode": {
        "name": "ipython",
        "version": 3
      },
      "file_extension": ".py",
      "mimetype": "text/x-python",
      "name": "python",
      "nbconvert_exporter": "python",
      "pygments_lexer": "ipython3",
      "version": "3.12.3"
    }
  },
  "nbformat": 4,
  "nbformat_minor": 5
}
